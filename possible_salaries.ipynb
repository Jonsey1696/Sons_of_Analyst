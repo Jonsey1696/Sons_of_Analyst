{
 "cells": [
  {
   "cell_type": "code",
   "execution_count": 1,
   "metadata": {},
   "outputs": [],
   "source": [
    "import pandas as pd\n",
    "import re"
   ]
  },
  {
   "cell_type": "code",
   "execution_count": 2,
   "metadata": {},
   "outputs": [
    {
     "data": {
      "text/html": [
       "<div>\n",
       "<style scoped>\n",
       "    .dataframe tbody tr th:only-of-type {\n",
       "        vertical-align: middle;\n",
       "    }\n",
       "\n",
       "    .dataframe tbody tr th {\n",
       "        vertical-align: top;\n",
       "    }\n",
       "\n",
       "    .dataframe thead th {\n",
       "        text-align: right;\n",
       "    }\n",
       "</style>\n",
       "<table border=\"1\" class=\"dataframe\">\n",
       "  <thead>\n",
       "    <tr style=\"text-align: right;\">\n",
       "      <th></th>\n",
       "      <th>Unnamed: 0</th>\n",
       "      <th>job_title</th>\n",
       "      <th>category</th>\n",
       "      <th>company_name</th>\n",
       "      <th>url</th>\n",
       "      <th>city</th>\n",
       "      <th>state</th>\n",
       "      <th>country</th>\n",
       "      <th>job_description</th>\n",
       "      <th>job_type</th>\n",
       "      <th>salary_offered</th>\n",
       "      <th>job_board</th>\n",
       "    </tr>\n",
       "  </thead>\n",
       "  <tbody>\n",
       "    <tr>\n",
       "      <th>0</th>\n",
       "      <td>0</td>\n",
       "      <td>data scientist</td>\n",
       "      <td>Accounting/Finance</td>\n",
       "      <td>Farmers Insurance Group</td>\n",
       "      <td>https://www.indeed.com/viewjob?jk=fd83355c2b23...</td>\n",
       "      <td>Woodland Hills</td>\n",
       "      <td>CA</td>\n",
       "      <td>Usa</td>\n",
       "      <td>Read what people are saying about working here...</td>\n",
       "      <td>Undefined</td>\n",
       "      <td>NaN</td>\n",
       "      <td>indeed</td>\n",
       "    </tr>\n",
       "    <tr>\n",
       "      <th>1</th>\n",
       "      <td>1</td>\n",
       "      <td>data scientist</td>\n",
       "      <td>NaN</td>\n",
       "      <td>Luxoft USA Inc</td>\n",
       "      <td>https://www.dice.com/jobs/detail/Data-Scientis...</td>\n",
       "      <td>Middletown</td>\n",
       "      <td>NJ</td>\n",
       "      <td>Usa</td>\n",
       "      <td>We have an immediate opening for a Sharp Data ...</td>\n",
       "      <td>Undefined</td>\n",
       "      <td>NaN</td>\n",
       "      <td>dice</td>\n",
       "    </tr>\n",
       "    <tr>\n",
       "      <th>2</th>\n",
       "      <td>2</td>\n",
       "      <td>data scientist</td>\n",
       "      <td>NaN</td>\n",
       "      <td>Cincinnati Bell Technology Solutions</td>\n",
       "      <td>https://www.dice.com/jobs/detail/Data-Scientis...</td>\n",
       "      <td>New York</td>\n",
       "      <td>NY</td>\n",
       "      <td>Usa</td>\n",
       "      <td>Candidates should have the following backgroun...</td>\n",
       "      <td>Full Time</td>\n",
       "      <td>NaN</td>\n",
       "      <td>dice</td>\n",
       "    </tr>\n",
       "    <tr>\n",
       "      <th>3</th>\n",
       "      <td>6</td>\n",
       "      <td>data scientist</td>\n",
       "      <td>Accounting/Finance</td>\n",
       "      <td>Spotify</td>\n",
       "      <td>https://www.indeed.com/viewjob?jk=c6db96b37f8a...</td>\n",
       "      <td>New York</td>\n",
       "      <td>NY 10011 (Chelsea area)</td>\n",
       "      <td>Usa</td>\n",
       "      <td>Read what people are saying about working here...</td>\n",
       "      <td>Undefined</td>\n",
       "      <td>NaN</td>\n",
       "      <td>indeed</td>\n",
       "    </tr>\n",
       "    <tr>\n",
       "      <th>4</th>\n",
       "      <td>7</td>\n",
       "      <td>data scientist</td>\n",
       "      <td>NaN</td>\n",
       "      <td>Xoriant Corporation</td>\n",
       "      <td>https://www.dice.com/jobs/detail/Sr.-Data-Scie...</td>\n",
       "      <td>Santa Clara</td>\n",
       "      <td>CA</td>\n",
       "      <td>Usa</td>\n",
       "      <td>Job Title: - Sr. Data Science Consultant Durat...</td>\n",
       "      <td>Contract</td>\n",
       "      <td>NaN</td>\n",
       "      <td>dice</td>\n",
       "    </tr>\n",
       "  </tbody>\n",
       "</table>\n",
       "</div>"
      ],
      "text/plain": [
       "   Unnamed: 0       job_title            category  \\\n",
       "0           0  data scientist  Accounting/Finance   \n",
       "1           1  data scientist                 NaN   \n",
       "2           2  data scientist                 NaN   \n",
       "3           6  data scientist  Accounting/Finance   \n",
       "4           7  data scientist                 NaN   \n",
       "\n",
       "                           company_name  \\\n",
       "0               Farmers Insurance Group   \n",
       "1                        Luxoft USA Inc   \n",
       "2  Cincinnati Bell Technology Solutions   \n",
       "3                               Spotify   \n",
       "4                   Xoriant Corporation   \n",
       "\n",
       "                                                 url            city  \\\n",
       "0  https://www.indeed.com/viewjob?jk=fd83355c2b23...  Woodland Hills   \n",
       "1  https://www.dice.com/jobs/detail/Data-Scientis...      Middletown   \n",
       "2  https://www.dice.com/jobs/detail/Data-Scientis...        New York   \n",
       "3  https://www.indeed.com/viewjob?jk=c6db96b37f8a...        New York   \n",
       "4  https://www.dice.com/jobs/detail/Sr.-Data-Scie...     Santa Clara   \n",
       "\n",
       "                     state country  \\\n",
       "0                       CA     Usa   \n",
       "1                       NJ     Usa   \n",
       "2                       NY     Usa   \n",
       "3  NY 10011 (Chelsea area)     Usa   \n",
       "4                       CA     Usa   \n",
       "\n",
       "                                     job_description   job_type  \\\n",
       "0  Read what people are saying about working here...  Undefined   \n",
       "1  We have an immediate opening for a Sharp Data ...  Undefined   \n",
       "2  Candidates should have the following backgroun...  Full Time   \n",
       "3  Read what people are saying about working here...  Undefined   \n",
       "4  Job Title: - Sr. Data Science Consultant Durat...   Contract   \n",
       "\n",
       "  salary_offered job_board  \n",
       "0            NaN    indeed  \n",
       "1            NaN      dice  \n",
       "2            NaN      dice  \n",
       "3            NaN    indeed  \n",
       "4            NaN      dice  "
      ]
     },
     "execution_count": 2,
     "metadata": {},
     "output_type": "execute_result"
    }
   ],
   "source": [
    "csv_path=\"../Sons_of_Analyst/clean_data.csv\"\n",
    "working_set=pd.read_csv(csv_path)\n",
    "working_set.head()"
   ]
  },
  {
   "cell_type": "code",
   "execution_count": 3,
   "metadata": {},
   "outputs": [
    {
     "data": {
      "text/plain": [
       "data scientist           6326\n",
       "senior data scientist    2051\n",
       "junior data scientist     365\n",
       "Name: job_title, dtype: int64"
      ]
     },
     "execution_count": 3,
     "metadata": {},
     "output_type": "execute_result"
    }
   ],
   "source": [
    "working_set.job_title.value_counts()"
   ]
  },
  {
   "cell_type": "code",
   "execution_count": 4,
   "metadata": {},
   "outputs": [
    {
     "data": {
      "text/plain": [
       "3330"
      ]
     },
     "execution_count": 4,
     "metadata": {},
     "output_type": "execute_result"
    }
   ],
   "source": [
    "working_set.job_description=working_set.job_description.str.lower()\n",
    "\n",
    "salary_df=working_set[working_set[\"job_description\"].str.contains(\"0k|0 k | $|60|70|80|90|100|110|120|130|140|150\")]\n",
    "\n",
    "wallet=[]\n",
    "for x in salary_df[\"job_description\"]:\n",
    "    \n",
    "    try:\n",
    "        money=str(x).split(\"$\")[1]\n",
    "        salary=re.findall(r'\\d+', money)\n",
    "        for number in salary:\n",
    "            dollars=float(number)\n",
    "            wallet.append(dollars) \n",
    "        #print(salary)\n",
    "        \n",
    "    except IndexError:\n",
    "        pass\n",
    "len(wallet)\n",
    "#salary_df.job_title.value_counts()"
   ]
  },
  {
   "cell_type": "code",
   "execution_count": 5,
   "metadata": {},
   "outputs": [
    {
     "data": {
      "text/plain": [
       "659"
      ]
     },
     "execution_count": 5,
     "metadata": {},
     "output_type": "execute_result"
    }
   ],
   "source": [
    "bank=[]\n",
    "\n",
    "for x in wallet:\n",
    "    if 50 <= x <= 250:\n",
    "        bank.append(x)\n",
    "        \n",
    "len(bank)"
   ]
  },
  {
   "cell_type": "code",
   "execution_count": 6,
   "metadata": {},
   "outputs": [],
   "source": [
    "#salary=[]"
   ]
  },
  {
   "cell_type": "code",
   "execution_count": 7,
   "metadata": {},
   "outputs": [],
   "source": [
    "#try1=working_set[working_set[\"job_description\"].str.contains('Salary')]\n",
    "#try2=try1[try1[\"job_description\"].str.contains(\"$\")]\n",
    "#try3=try2[\"job_description\"].tolist()\n",
    "#for x in try3:\n",
    "    #try:\n",
    "        #s=x.split(\"$\")[1]\n",
    "        #k=s.split(\"K\")[0]\n",
    "        #salary.append(k)\n",
    "    #except:\n",
    "        #pass"
   ]
  },
  {
   "cell_type": "code",
   "execution_count": 8,
   "metadata": {},
   "outputs": [],
   "source": [
    "#print(salary)"
   ]
  },
  {
   "cell_type": "code",
   "execution_count": null,
   "metadata": {},
   "outputs": [],
   "source": []
  }
 ],
 "metadata": {
  "kernelspec": {
   "display_name": "Python [conda env:PythonData] *",
   "language": "python",
   "name": "conda-env-PythonData-py"
  },
  "language_info": {
   "codemirror_mode": {
    "name": "ipython",
    "version": 3
   },
   "file_extension": ".py",
   "mimetype": "text/x-python",
   "name": "python",
   "nbconvert_exporter": "python",
   "pygments_lexer": "ipython3",
   "version": "3.6.10"
  }
 },
 "nbformat": 4,
 "nbformat_minor": 4
}
