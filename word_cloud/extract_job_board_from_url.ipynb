{
 "cells": [
  {
   "cell_type": "code",
   "execution_count": null,
   "metadata": {},
   "outputs": [],
   "source": [
    "import pandas as pd\n",
    "\n",
    "# get original file to work with\n",
    "csv_path=\"../../Sons_of_Analyst/data_scientist_united_states_job_postings_jobspikr.csv\"\n",
    "\n",
    "kaggle_data_df=pd.read_csv(csv_path)\n",
    "kaggle_data_df"
   ]
  },
  {
   "cell_type": "code",
   "execution_count": null,
   "metadata": {},
   "outputs": [],
   "source": [
    "# dependencies\n",
    "from urllib.parse import urlparse\n",
    "\n",
    "# create a list\n",
    "board_from_url = []\n",
    "\n",
    "# loop through original data frame and determine job board from url\n",
    "for url in kaggle_data_df['url']:\n",
    "    job_site = urlparse(url).netloc\n",
    "    \n",
    "    # urls have either 2 or 3 components in split on '.'\n",
    "    if job_site.count('.') == 2:\n",
    "        board_from_url.append((job_site).split('.')[1])\n",
    "    elif job_site.count('.') == 1:\n",
    "        board_from_url.append((job_site).rsplit('.')[0])\n",
    "    else:\n",
    "        board_from_url.append('url error')\n",
    "\n",
    "    \n",
    "# create dataframe to merge back to original    \n",
    "job_board_series = pd.DataFrame(board_from_url)\n",
    "\n",
    "# rename column\n",
    "job_board_series.columns = ['extracted_job_board']\n",
    "\n",
    "# count values to search for errors and evaluate result\n",
    "job_board_series['extracted_job_board'].value_counts()"
   ]
  },
  {
   "cell_type": "code",
   "execution_count": null,
   "metadata": {},
   "outputs": [],
   "source": [
    "# append to original dataframe\n",
    "kaggle_data_df['extracted_job_board'] = job_board_series['extracted_job_board']"
   ]
  },
  {
   "cell_type": "code",
   "execution_count": null,
   "metadata": {},
   "outputs": [],
   "source": [
    "kaggle_data_df"
   ]
  },
  {
   "cell_type": "code",
   "execution_count": null,
   "metadata": {},
   "outputs": [],
   "source": []
  }
 ],
 "metadata": {
  "kernelspec": {
   "display_name": "Python 3.6.10 64-bit ('PythonData': conda)",
   "language": "python",
   "name": "python361064bitpythondataconda2a9a3c884c40400db426ae2e3e580487"
  },
  "language_info": {
   "codemirror_mode": {
    "name": "ipython",
    "version": 3
   },
   "file_extension": ".py",
   "mimetype": "text/x-python",
   "name": "python",
   "nbconvert_exporter": "python",
   "pygments_lexer": "ipython3",
   "version": "3.6.10"
  }
 },
 "nbformat": 4,
 "nbformat_minor": 4
}