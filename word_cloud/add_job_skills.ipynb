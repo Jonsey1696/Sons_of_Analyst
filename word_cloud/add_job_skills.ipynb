{
 "cells": [
  {
   "cell_type": "code",
   "execution_count": null,
   "metadata": {},
   "outputs": [],
   "source": [
    "import pandas as pd\n",
    "import re\n",
    "import numpy as np\n",
    "\n",
    "# load list of skills and create working list\n",
    "skills_csv = pd.read_csv('skills.csv')\n",
    "skills_list = skills_csv['Job Skill'].tolist()\n",
    "\n",
    "# load latest clean data file\n",
    "clean_data_v2 = pd.read_csv('clean_data_ver2.csv')\n",
    "\n",
    "#skills_list\n",
    "#clean_data_v2.head()"
   ]
  },
  {
   "cell_type": "code",
   "execution_count": null,
   "metadata": {},
   "outputs": [],
   "source": [
    "# add new column for job_skills\n",
    "clean_data_v2['job_skills'] = clean_data_v2['job_description'].str.findall(f\"({'|'.join(skills_list)})\").str.join(', ').replace('', np.nan)\n",
    "clean_data_v2.head()"
   ]
  },
  {
   "cell_type": "code",
   "execution_count": null,
   "metadata": {},
   "outputs": [],
   "source": [
    "# save new file\n",
    "clean_data_v2.to_csv('clean_data_ver3.csv')"
   ]
  },
  {
   "cell_type": "code",
   "execution_count": null,
   "metadata": {},
   "outputs": [],
   "source": []
  }
 ],
 "metadata": {
  "language_info": {
   "codemirror_mode": {
    "name": "ipython",
    "version": 3
   },
   "file_extension": ".py",
   "mimetype": "text/x-python",
   "name": "python",
   "nbconvert_exporter": "python",
   "pygments_lexer": "ipython3",
   "version": "3.7.6-final"
  },
  "orig_nbformat": 2,
  "kernelspec": {
   "name": "python3",
   "display_name": "Python 3"
  }
 },
 "nbformat": 4,
 "nbformat_minor": 2
}