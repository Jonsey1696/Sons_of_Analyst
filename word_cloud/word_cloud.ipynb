{
 "cells": [
  {
   "cell_type": "code",
   "execution_count": 139,
   "metadata": {
    "tags": []
   },
   "outputs": [],
   "source": [
    "import pandas as pd\n",
    "import csv\n",
    "from wordcloud import WordCloud, STOPWORDS \n",
    "import matplotlib.pyplot as plt \n",
    "\n",
    "# load list of skills and create working list\n",
    "skillz = pd.read_csv('skills.csv')\n",
    "skills_list = skillz['Job Skill'].tolist()\n",
    "\n",
    "def skill_count(str):\n",
    "\n",
    "    wordlist = []\n",
    "    new_string = pd.Series(str.split(' '))\n",
    "\n",
    "    for skill in new_string:\n",
    "        if skill in skills_list:\n",
    "            wordlist.append(skill)\n",
    "    \n",
    "    return wordlist\n",
    "\n",
    "\n",
    "#skillz\n",
    "#print(skills_list)"
   ]
  },
  {
   "cell_type": "code",
   "execution_count": 137,
   "metadata": {},
   "outputs": [],
   "source": [
    "csv_path=\"../data_scientist_united_states_job_postings_jobspikr.csv\"\n",
    "\n",
    "common_words = dict()\n",
    "#common_words = csv.reader('most_common_words.csv')\n",
    "common_words = pd.read_csv('most_common_words.csv')\n",
    "\n",
    "kaggle_data_df=pd.read_csv(csv_path)\n",
    "#kaggle_data_df.head()\n",
    "\n",
    "#kaggle_data_df\n"
   ]
  },
  {
   "cell_type": "code",
   "execution_count": 140,
   "metadata": {
    "tags": []
   },
   "outputs": [
    {
     "output_type": "stream",
     "name": "stdout",
     "text": "Read what people are saying about working here. \n\nData Scientist\n\nYour deep experience with artificial intelligence and advanced analytics is matched by a passion to build great products, lead innovation and be a mentor and guide to other Engineering team members. In the past you have been part of a startup or corporate innovation team working in fast-moving environments. You can point to numerous examples which have demonstrated your ability to creativity solve technical challenges.\n\nA Pioneer in the Fintech, Intralinks is a 22 years old company. 1/3 of the world’s M&A runs on our Virtual Data Room product, $1 of every $2 dollars of private equity is raised through our Fund raising and reporting solutions.\n\nWhat we are searching for:\n\nAs a Data Scientist you will be working with the largest repository of corporate, board-level business information in the world. You will work with Product Managers, Business Analysts, Data Analysts, User Experience Designers, ML Engineers, and Senior Executives to gather requirements and apply data science methodologies to solve complex business problems. You should have deep expertise in analyzing large, complex data sets from multiple domains. You should be an expert at designing and implementing solutions that use a range of data science methodologies to automate data analysis or to solve complex business problems. You will be a part of a larger AI team based in Waltham, MA building cognitive software for Investment Bankers, Private Equity and other industries.\n\nResponsibilities & Opportunities of the Role:\n\nWork with the AI team in building a world-class software, functioning as a thought leader in ensuring team development efforts resulting in successful delivery of AI systems\n\nCollaborate with cross functional agile teams of software engineers, data engineers, ML engineers, Product Managers and others in building new product features\n\nManage and execute entire data projects from start to finish including cross-functional project management, data gathering and manipulation, analysis and modeling, and communication of insights and recommendations.\n\nDemonstrate a high degree of originality and creativity when developing solutions to solve problems like risk analysis, document classification etc. utilizing methods such as statistical analysis, regression modeling, natural language understanding and optimization.\n\nWork independently to manage multiple projects at once while ensuring deadlines are met and data output is accurate and appropriate for the business. Must also be able to deal with ambiguity and make independent decisions about what data and approach is best for the task at hand.\n\nThink strategically about data as a core enterprise asset and assist in all phases of the advanced analytic development process\n\nSupport advanced analytical and data mining efforts which could include but not limited to clustering, segmentation, logistic and multivariate regression, decision/CART trees, neural networks, time-series analysis, sentiment analysis, topic modeling, random forests, and Bayesian analysis\n\nThe scope of work includes Forecast, Prediction Models, Outlier Reporting, Risk Analysis, Document classification, Data Extraction, Adhoc analysis\n\nImplementation of Supervised and Unsupervised model development techniques\n\nMinimum Qualifications to Apply:\n\nPh.D. in a science with experience in Machine Learning/Statistics/Data Science\n\n3+ experience in building ML models. Experience in tackling domains like risk analysis, document classification, data extraction is a plus.\n\nExperience with traditional as well as modern machine learning/statistical techniques, including Regression, Classification, Regularization, NLP, NLU, Ensemble Methods and Neural Networks\n\nStrong implementation experience with high-level languages, such as Python, R, Perl, Ruby, Scala or similar scripting languages;\n\nFamiliarity with Linux/Unix/Shell environments;\n\nStrong hands-on skills in sourcing, cleaning, manipulating and analyzing large volumes of data;\n\nStrong written and oral communication skills.\n\nIntense intellectual curiosity – strong desire to always be learning\n\nAnalytical, creative, and innovative approach to solving open-ended problems\n\nHighly collaborative, team-player attitude\n\nExperience with product development is a plus\n\nExperience with Financial Services, in particular direct experience with Investment Banking and M&A, either as a service provider or in M&A situations such as working on an extended diligence teams or on post-merger integration teams is preferred\n\nTechnical Skills:\n\nLeading Technical Skills: SAS &/or R &/or SPSS, Python, Hadoop, SQL, NoSQL, Unstructured Data, SQL, SparkSQL (or equivalent Big Data Language), Expert at MS Excel, XML, Data Visualization Tool Experience (such as Tableau)\n\nOther Experience/Skills: XML, Web Services, Java, &/or Perl &/or Python &/or C/C++, RESTful Services and APIs, Testing and Debugging, Data Munging/Cleanup, Data Visualization and Communication\n\nPrevious industry experience with ML systems using frameworks such as Scikit-learn, Keras and Tensorflow\n\nTechnical/SDLC: General Agile experience, Strong SCRUM, Confluence, Jira, Version Control\n\nStrong Presentation skills\n\nExperience in business intelligence systems is a plus\n\nStrong business acumen and financial services experience is a plus\n\n More than two decades after pioneering the virtual data room, we’re still the leading innovator in financial technology, trusted by more ...\n"
    },
    {
     "output_type": "execute_result",
     "data": {
      "text/plain": "['ML', 'ML', 'ML', 'Scala', 'SAS', 'R', 'Perl', 'Python', 'ML', 'Agile']"
     },
     "metadata": {},
     "execution_count": 140
    }
   ],
   "source": [
    "test_str = kaggle_data_df['job_description'][75]\n",
    "print(test_str)\n",
    "\n",
    "#skillz2 = skill_count(test_str)\n",
    "#print(skillz2)\n",
    "\n",
    "new_list = skill_count(test_str)\n",
    "new_list"
   ]
  },
  {
   "cell_type": "code",
   "execution_count": null,
   "metadata": {},
   "outputs": [],
   "source": [
    "# TODO - create new loop using function to build a new pd.Series called \"Skill List\" to add to main DataFrame\n",
    "# TODO - not getting all of the dictionary items due to split issues (see example above with 'job description' = 75)"
   ]
  }
 ],
 "metadata": {
  "kernelspec": {
   "display_name": "Python 3.6.10 64-bit ('PythonData': conda)",
   "language": "python",
   "name": "python361064bitpythondataconda2a9a3c884c40400db426ae2e3e580487"
  },
  "language_info": {
   "codemirror_mode": {
    "name": "ipython",
    "version": 3
   },
   "file_extension": ".py",
   "mimetype": "text/x-python",
   "name": "python",
   "nbconvert_exporter": "python",
   "pygments_lexer": "ipython3",
   "version": "3.6.10-final"
  }
 },
 "nbformat": 4,
 "nbformat_minor": 2
}