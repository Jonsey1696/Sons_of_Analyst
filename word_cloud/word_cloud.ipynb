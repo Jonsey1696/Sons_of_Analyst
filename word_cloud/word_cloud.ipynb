{
 "cells": [
  {
   "cell_type": "code",
   "execution_count": null,
   "metadata": {},
   "outputs": [],
   "source": [
    "import pandas as pd\n",
    "import csv\n",
    "\n",
    "def skill_count(str):\n",
    "    # may need to move counts() dictionary out of function; pass in the dictionary name as a parameter\n",
    "    counts = dict()\n",
    "    skillz = str.split()\n",
    "\n",
    "    for skill in skillz:\n",
    "        if skill not in common_words['word'].values:\n",
    "            if skill in counts:\n",
    "                counts[skill] += 1\n",
    "            else:\n",
    "                counts[skill] = 1\n",
    "    \n",
    "    return counts\n",
    "\n"
   ]
  },
  {
   "cell_type": "code",
   "execution_count": null,
   "metadata": {},
   "outputs": [],
   "source": [
    "csv_path=\"../data_scientist_united_states_job_postings_jobspikr.csv\"\n",
    "\n",
    "common_words = dict()\n",
    "#common_words = csv.reader('most_common_words.csv')\n",
    "common_words = pd.read_csv('most_common_words.csv')\n",
    "\n",
    "kaggle_data_df=pd.read_csv(csv_path)\n",
    "#kaggle_data_df.head()\n",
    "kaggle_data_df\n"
   ]
  },
  {
   "cell_type": "code",
   "execution_count": null,
   "metadata": {
    "tags": []
   },
   "outputs": [],
   "source": [
    "test_str = kaggle_data_df['job_description'][777]\n",
    "print(test_str)\n",
    "\n",
    "skillz2 = skill_count(test_str)\n",
    "skillz2"
   ]
  },
  {
   "cell_type": "code",
   "execution_count": null,
   "metadata": {},
   "outputs": [],
   "source": [
    "common_words['word'].values"
   ]
  },
  {
   "cell_type": "code",
   "execution_count": null,
   "metadata": {},
   "outputs": [],
   "source": []
  }
 ],
 "metadata": {
  "kernelspec": {
   "display_name": "Python 3.6.10 64-bit ('PythonData': conda)",
   "language": "python",
   "name": "python361064bitpythondataconda2a9a3c884c40400db426ae2e3e580487"
  },
  "language_info": {
   "codemirror_mode": {
    "name": "ipython",
    "version": 3
   },
   "file_extension": ".py",
   "mimetype": "text/x-python",
   "name": "python",
   "nbconvert_exporter": "python",
   "pygments_lexer": "ipython3",
   "version": "3.6.10"
  }
 },
 "nbformat": 4,
 "nbformat_minor": 2
}
