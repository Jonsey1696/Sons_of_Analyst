{
 "cells": [
  {
   "cell_type": "code",
   "execution_count": 104,
   "metadata": {
    "tags": []
   },
   "outputs": [],
   "source": [
    "import pandas as pd\n",
    "import csv\n",
    "from wordcloud import WordCloud, STOPWORDS \n",
    "import matplotlib.pyplot as plt \n",
    "import re\n",
    "import numpy as np\n",
    "\n",
    "# load list of skills and create working list\n",
    "skillz = pd.read_csv('skills.csv')\n",
    "skills_list = skillz['Job Skill'].tolist()\n",
    "\n",
    "def skill_count(str):\n",
    "\n",
    "    wordlist = []\n",
    "    new_string = pd.Series(re.split('; |, | |/|(|) ', str))\n",
    "\n",
    "    for skill in new_string:\n",
    "        if skill in skills_list:\n",
    "            wordlist.append(skill)\n",
    "    \n",
    "    return wordlist\n",
    "\n",
    "\n",
    "#skillz\n",
    "#print(skills_list)"
   ]
  },
  {
   "cell_type": "code",
   "execution_count": 105,
   "metadata": {},
   "outputs": [
    {
     "output_type": "execute_result",
     "data": {
      "text/plain": "      Unnamed: 0  Unnamed: 0.1              job_title            category  \\\n0              0             0         data scientist  Accounting/Finance   \n1              1             1         data scientist                 NaN   \n2              2             2         data scientist                 NaN   \n3              3             6         data scientist  Accounting/Finance   \n4              4             7         data scientist                 NaN   \n...          ...           ...                    ...                 ...   \n8737        8737          2811  senior data scientist                 NaN   \n8738        8738          2812  senior data scientist                 NaN   \n8739        8739          2813  senior data scientist       computer jobs   \n8740        8740          2814  senior data scientist       computer jobs   \n8741        8741          2815  senior data scientist       computer jobs   \n\n                              company_name  \\\n0                  Farmers Insurance Group   \n1                           Luxoft USA Inc   \n2     Cincinnati Bell Technology Solutions   \n3                                  Spotify   \n4                      Xoriant Corporation   \n...                                    ...   \n8737                              Circle K   \n8738          Nigel Frank International US   \n8739                           CyberCoders   \n8740              Booz Allen Hamilton Inc.   \n8741                           CyberCoders   \n\n                                                    url            city state  \\\n0     https://www.indeed.com/viewjob?jk=fd83355c2b23...  Woodland Hills    CA   \n1     https://www.dice.com/jobs/detail/Data-Scientis...      Middletown    NJ   \n2     https://www.dice.com/jobs/detail/Data-Scientis...        New York    NY   \n3     https://www.indeed.com/viewjob?jk=c6db96b37f8a...        New York    NY   \n4     https://www.dice.com/jobs/detail/Sr.-Data-Scie...     Santa Clara    CA   \n...                                                 ...             ...   ...   \n8737  https://www.careerbuilder.com/job/J3M7GJ67MHP8...           Tempe    AZ   \n8738  https://www.careerbuilder.com/job/J3W24867TTZV...          Boston    MA   \n8739  https://job-openings.monster.com/senior-data-s...   San Francisco    CA   \n8740  https://job-openings.monster.com/multi-source-...          McLean    VA   \n8741  https://job-openings.monster.com/senior-data-s...         Madison    NJ   \n\n     country                                    job_description   job_type  \\\n0        Usa  Read what people are saying about working here...  Undefined   \n1        Usa  We have an immediate opening for a Sharp Data ...  Undefined   \n2        Usa  Candidates should have the following backgroun...  Full Time   \n3        Usa  Read what people are saying about working here...  Undefined   \n4        Usa  Job Title: - Sr. Data Science Consultant Durat...   Contract   \n...      ...                                                ...        ...   \n8737      US  Circle K is a great place to work! Here is why...  Full Time   \n8738      US  Senior Data Scientist - Boston, MAThis client ...  Full Time   \n8739     Usa  Senior Data Scientist \\n Senior Data Scientist...  Undefined   \n8740     Usa  Job Number: R0066159 \\n\\n\\n\\n\\n\\nMulti-Source ...  Undefined   \n8741     Usa  Senior Data Scientist \\n Senior Data Scientist...  Undefined   \n\n     salary_offered      job_board extracted_job_board  \n0               NaN         indeed              indeed  \n1               NaN           dice                dice  \n2               NaN           dice                dice  \n3               NaN         indeed              indeed  \n4               NaN           dice                dice  \n...             ...            ...                 ...  \n8737            NaN  careerbuilder       careerbuilder  \n8738            NaN  careerbuilder       careerbuilder  \n8739            NaN        monster             monster  \n8740            NaN        monster             monster  \n8741            NaN        monster             monster  \n\n[8742 rows x 14 columns]",
      "text/html": "<div>\n<style scoped>\n    .dataframe tbody tr th:only-of-type {\n        vertical-align: middle;\n    }\n\n    .dataframe tbody tr th {\n        vertical-align: top;\n    }\n\n    .dataframe thead th {\n        text-align: right;\n    }\n</style>\n<table border=\"1\" class=\"dataframe\">\n  <thead>\n    <tr style=\"text-align: right;\">\n      <th></th>\n      <th>Unnamed: 0</th>\n      <th>Unnamed: 0.1</th>\n      <th>job_title</th>\n      <th>category</th>\n      <th>company_name</th>\n      <th>url</th>\n      <th>city</th>\n      <th>state</th>\n      <th>country</th>\n      <th>job_description</th>\n      <th>job_type</th>\n      <th>salary_offered</th>\n      <th>job_board</th>\n      <th>extracted_job_board</th>\n    </tr>\n  </thead>\n  <tbody>\n    <tr>\n      <th>0</th>\n      <td>0</td>\n      <td>0</td>\n      <td>data scientist</td>\n      <td>Accounting/Finance</td>\n      <td>Farmers Insurance Group</td>\n      <td>https://www.indeed.com/viewjob?jk=fd83355c2b23...</td>\n      <td>Woodland Hills</td>\n      <td>CA</td>\n      <td>Usa</td>\n      <td>Read what people are saying about working here...</td>\n      <td>Undefined</td>\n      <td>NaN</td>\n      <td>indeed</td>\n      <td>indeed</td>\n    </tr>\n    <tr>\n      <th>1</th>\n      <td>1</td>\n      <td>1</td>\n      <td>data scientist</td>\n      <td>NaN</td>\n      <td>Luxoft USA Inc</td>\n      <td>https://www.dice.com/jobs/detail/Data-Scientis...</td>\n      <td>Middletown</td>\n      <td>NJ</td>\n      <td>Usa</td>\n      <td>We have an immediate opening for a Sharp Data ...</td>\n      <td>Undefined</td>\n      <td>NaN</td>\n      <td>dice</td>\n      <td>dice</td>\n    </tr>\n    <tr>\n      <th>2</th>\n      <td>2</td>\n      <td>2</td>\n      <td>data scientist</td>\n      <td>NaN</td>\n      <td>Cincinnati Bell Technology Solutions</td>\n      <td>https://www.dice.com/jobs/detail/Data-Scientis...</td>\n      <td>New York</td>\n      <td>NY</td>\n      <td>Usa</td>\n      <td>Candidates should have the following backgroun...</td>\n      <td>Full Time</td>\n      <td>NaN</td>\n      <td>dice</td>\n      <td>dice</td>\n    </tr>\n    <tr>\n      <th>3</th>\n      <td>3</td>\n      <td>6</td>\n      <td>data scientist</td>\n      <td>Accounting/Finance</td>\n      <td>Spotify</td>\n      <td>https://www.indeed.com/viewjob?jk=c6db96b37f8a...</td>\n      <td>New York</td>\n      <td>NY</td>\n      <td>Usa</td>\n      <td>Read what people are saying about working here...</td>\n      <td>Undefined</td>\n      <td>NaN</td>\n      <td>indeed</td>\n      <td>indeed</td>\n    </tr>\n    <tr>\n      <th>4</th>\n      <td>4</td>\n      <td>7</td>\n      <td>data scientist</td>\n      <td>NaN</td>\n      <td>Xoriant Corporation</td>\n      <td>https://www.dice.com/jobs/detail/Sr.-Data-Scie...</td>\n      <td>Santa Clara</td>\n      <td>CA</td>\n      <td>Usa</td>\n      <td>Job Title: - Sr. Data Science Consultant Durat...</td>\n      <td>Contract</td>\n      <td>NaN</td>\n      <td>dice</td>\n      <td>dice</td>\n    </tr>\n    <tr>\n      <th>...</th>\n      <td>...</td>\n      <td>...</td>\n      <td>...</td>\n      <td>...</td>\n      <td>...</td>\n      <td>...</td>\n      <td>...</td>\n      <td>...</td>\n      <td>...</td>\n      <td>...</td>\n      <td>...</td>\n      <td>...</td>\n      <td>...</td>\n      <td>...</td>\n    </tr>\n    <tr>\n      <th>8737</th>\n      <td>8737</td>\n      <td>2811</td>\n      <td>senior data scientist</td>\n      <td>NaN</td>\n      <td>Circle K</td>\n      <td>https://www.careerbuilder.com/job/J3M7GJ67MHP8...</td>\n      <td>Tempe</td>\n      <td>AZ</td>\n      <td>US</td>\n      <td>Circle K is a great place to work! Here is why...</td>\n      <td>Full Time</td>\n      <td>NaN</td>\n      <td>careerbuilder</td>\n      <td>careerbuilder</td>\n    </tr>\n    <tr>\n      <th>8738</th>\n      <td>8738</td>\n      <td>2812</td>\n      <td>senior data scientist</td>\n      <td>NaN</td>\n      <td>Nigel Frank International US</td>\n      <td>https://www.careerbuilder.com/job/J3W24867TTZV...</td>\n      <td>Boston</td>\n      <td>MA</td>\n      <td>US</td>\n      <td>Senior Data Scientist - Boston, MAThis client ...</td>\n      <td>Full Time</td>\n      <td>NaN</td>\n      <td>careerbuilder</td>\n      <td>careerbuilder</td>\n    </tr>\n    <tr>\n      <th>8739</th>\n      <td>8739</td>\n      <td>2813</td>\n      <td>senior data scientist</td>\n      <td>computer jobs</td>\n      <td>CyberCoders</td>\n      <td>https://job-openings.monster.com/senior-data-s...</td>\n      <td>San Francisco</td>\n      <td>CA</td>\n      <td>Usa</td>\n      <td>Senior Data Scientist \\n Senior Data Scientist...</td>\n      <td>Undefined</td>\n      <td>NaN</td>\n      <td>monster</td>\n      <td>monster</td>\n    </tr>\n    <tr>\n      <th>8740</th>\n      <td>8740</td>\n      <td>2814</td>\n      <td>senior data scientist</td>\n      <td>computer jobs</td>\n      <td>Booz Allen Hamilton Inc.</td>\n      <td>https://job-openings.monster.com/multi-source-...</td>\n      <td>McLean</td>\n      <td>VA</td>\n      <td>Usa</td>\n      <td>Job Number: R0066159 \\n\\n\\n\\n\\n\\nMulti-Source ...</td>\n      <td>Undefined</td>\n      <td>NaN</td>\n      <td>monster</td>\n      <td>monster</td>\n    </tr>\n    <tr>\n      <th>8741</th>\n      <td>8741</td>\n      <td>2815</td>\n      <td>senior data scientist</td>\n      <td>computer jobs</td>\n      <td>CyberCoders</td>\n      <td>https://job-openings.monster.com/senior-data-s...</td>\n      <td>Madison</td>\n      <td>NJ</td>\n      <td>Usa</td>\n      <td>Senior Data Scientist \\n Senior Data Scientist...</td>\n      <td>Undefined</td>\n      <td>NaN</td>\n      <td>monster</td>\n      <td>monster</td>\n    </tr>\n  </tbody>\n</table>\n<p>8742 rows × 14 columns</p>\n</div>"
     },
     "metadata": {},
     "execution_count": 105
    }
   ],
   "source": [
    "# csv_path=\"../data_scientist_united_states_job_postings_jobspikr.csv\"\n",
    "csv_path = \"clean_data_ver2.csv\"\n",
    "\n",
    "#common_words = dict()\n",
    "#common_words = csv.reader('most_common_words.csv')\n",
    "#common_words = pd.read_csv('most_common_words.csv')\n",
    "\n",
    "kaggle_data_df=pd.read_csv(csv_path)\n",
    "#kaggle_data_df.head()\n",
    "\n",
    "kaggle_data_df\n"
   ]
  },
  {
   "cell_type": "code",
   "execution_count": 106,
   "metadata": {
    "tags": []
   },
   "outputs": [
    {
     "output_type": "execute_result",
     "data": {
      "text/plain": "['Mathematics',\n 'Statistics',\n 'SQL',\n 'NoSQL',\n 'Spark',\n 'Python',\n 'Scala',\n 'Matlab',\n 'SAS',\n 'scikit-learn',\n 'TensorFlow']"
     },
     "metadata": {},
     "execution_count": 106
    }
   ],
   "source": [
    "test_str = kaggle_data_df['job_description'][77]\n",
    "#print(test_str)\n",
    "\n",
    "#skillz2 = skill_count(test_str)\n",
    "#print(skillz2)\n",
    "\n",
    "new_list = skill_count(test_str)\n",
    "new_list"
   ]
  },
  {
   "cell_type": "code",
   "execution_count": 107,
   "metadata": {},
   "outputs": [
    {
     "output_type": "execute_result",
     "data": {
      "text/plain": "'Mathematics, Statistics, SQL, NoSQL, Hadoop, Spark, Hive, Python, Scala,  R, Matlab, SAS, scikit-learn, TensorFlow'"
     },
     "metadata": {},
     "execution_count": 107
    }
   ],
   "source": [
    "kaggle_data_df['skills_wc'] = kaggle_data_df['job_description'].str.findall(f\"({'|'.join(skills_list)})\").str.join(', ').replace('', np.nan)\n",
    "kaggle_data_df['skills_wc'][77]"
   ]
  },
  {
   "cell_type": "code",
   "execution_count": 108,
   "metadata": {
    "tags": []
   },
   "outputs": [
    {
     "output_type": "stream",
     "name": "stdout",
     "text": "Read what people are saying about working here. \n\nData Scientist\n\n19WD31691\n\nAmericas-United States of America-California-San Francisco\n\nData Scientist\n\nLocation: San Francisco, CA - United States\n\nJob ID: 19WD31691\n\nPosition Overview\n\nAutodesk is seeking a Data Scientist to join our Advanced Analytics organization. The Advanced Analytics organization is chartered with building innovative data products and analytics solutions for Autodesk’s strategy, product, marketing, sales and customer support teams. This critical data scientist role will help us make machine intelligence an integral part of how Autodesk makes decisions and designs and builds its products.\n\nYou will work alongside a product development team and apply data mining, analytics and machine learning methods to understanding how customers use, adopt and achieve successful outcomes with our products. The ideal candidate is a strong data scientist who thinks outside the box, is naturally curious, highly collaborative, and has a passion for tackling complex data-centric problems.\n\nResponsibilities\n\nWork on a variety of problems that seek to better understand how customers use their products and what drives deeper adoption of products\n\nApply your quantitative analysis, data mining and machine learning expertise to building models that make sense of user needs, usage patterns, factors that drive deeper adoption and contribute to subscriber churn\n\nInfluence product development, strategy and roadmap prioritization\n\nDesign and implement machine learning pipelines that improve Autodesk’s evidence-based decision-making capabilities\n\nTackle complex problems requiring a creative mindset to find innovative and elegant solutions\n\nMinimum Qualifications\n\nBS/MS in the field of Mathematics, Statistics/Analytics, Computer Science or other relevant field\n\n2+ years of applicable work experience\n\nExperience working with relational SQL and NoSQL databases\n\nExperience working with big data platforms (Hadoop, Spark, Hive)\n\nFluency with one or more of the scripting languages: Python, Java, Scala, etc.\n\nGood understanding of CS fundamentals, e.g. algorithms and data structures\n\nExperience in statistical programming tools such as R, Matlab, SAS, etc.\n\nExperience with data science toolkits: pandas, numpy, scikit-learn, TensorFlow, etc.\n\nFamiliarity with statistics concepts and analysis, e.g. hypothesis testing, regression, etc.\n\nFamiliarity with Machine Learning techniques, e.g. classification, clustering, regularization, optimization, dimension reduction, etc.\n\nGood communication skills and ability to explain complex topics to a non-technical audience\n\nAbout Autodesk\n\nWith Autodesk software, you have the power to Make Anything. The future of making is here, bringing with it radical changes in the way things are designed, made, and used. It's disrupting every industry: architecture, engineering, and construction; manufacturing; and media and entertainment. With the right knowledge and tools, this disruption is your opportunity. Our software is used by everyone - from design professionals, engineers and architects to digital scientists, students and hobbyists. We constantly explore new ways to integrate all dimensions of diversity across our employees, customers, partners, and communities. Our ultimate goal is to expand opportunities for anyone to imagine, design, and make a better world.\n\nAt Autodesk, we're building a diverse workplace and an inclusive culture to give more people the chance to imagine, design, and make a better world.\n\n  As a global leader in 3D design, engineering, and entertainment software, Autodesk helps people imagine, design, and create a better wor...\n"
    }
   ],
   "source": [
    "print(kaggle_data_df['job_description'][77])"
   ]
  },
  {
   "cell_type": "code",
   "execution_count": 109,
   "metadata": {},
   "outputs": [],
   "source": [
    "# kaggle_data_df['skillz_fn'] = skill_count(kaggle_data_df['job_description'].astype(str))\n",
    "# kaggle_data_df"
   ]
  },
  {
   "cell_type": "code",
   "execution_count": 110,
   "metadata": {},
   "outputs": [],
   "source": [
    "# TODO - create new loop using function to build a new pd.Series called \"Skill List\" to add to main DataFrame"
   ]
  }
 ],
 "metadata": {
  "kernelspec": {
   "display_name": "Python 3.6.10 64-bit ('PythonData': conda)",
   "language": "python",
   "name": "python361064bitpythondataconda2a9a3c884c40400db426ae2e3e580487"
  },
  "language_info": {
   "codemirror_mode": {
    "name": "ipython",
    "version": 3
   },
   "file_extension": ".py",
   "mimetype": "text/x-python",
   "name": "python",
   "nbconvert_exporter": "python",
   "pygments_lexer": "ipython3",
   "version": "3.6.10-final"
  }
 },
 "nbformat": 4,
 "nbformat_minor": 2
}