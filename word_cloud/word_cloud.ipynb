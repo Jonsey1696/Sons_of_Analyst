{
 "cells": [
  {
   "cell_type": "code",
   "execution_count": 44,
   "metadata": {},
   "outputs": [],
   "source": [
    "import pandas as pd\n",
    "\n",
    "def skill_count(str):\n",
    "    counts = dict()\n",
    "    skillz = str.split()\n",
    "\n",
    "    for skill in skillz:\n",
    "        if skill in counts:\n",
    "            counts[skill] += 1\n",
    "        else:\n",
    "            counts[skill] = 1\n",
    "    \n",
    "    return counts\n",
    "\n"
   ]
  },
  {
   "cell_type": "code",
   "execution_count": 45,
   "metadata": {},
   "outputs": [],
   "source": [
    "csv_path=\"../data_scientist_united_states_job_postings_jobspikr.csv\"\n",
    "\n",
    "common_words = pd.read_csv('most_common_words.csv')\n",
    "\n",
    "kaggle_data_df=pd.read_csv(csv_path)\n",
    "#kaggle_data_df.head()\n",
    "\n",
    "#common_words"
   ]
  },
  {
   "cell_type": "code",
   "execution_count": 47,
   "metadata": {
    "tags": []
   },
   "outputs": [
    {
     "output_type": "stream",
     "name": "stdout",
     "text": "We have an immediate opening for a Sharp Data Scientist with a strong Mathematical/Statistical background to work on various initiatives in a Huge data environment. Will be looking at various formats of Data dealing with Billing Fraud Patterns using various software and modeling techniques. The candidate should have a minimum of 3 years of solid work experience in a professional organization/corporation using Python, SQL, Python libraries, Machine Learning Algorithms ( i.e. Decision Tree, Random Forest, Logistic Regression, etc.) should have strong Python skills. Additional experience with R Cloud would be a plus. Will be working with structured and unstructured data formats so any experience with Hive, and other Big Data technologies would be a plus. Should have strong communication skills and the ability to explain data findings to both Technical and Non- Technical audiences. We are NOT considering Recent College Grads- MUST have a minimum of 2-3 post Graduate experience working in a professional organization .\n"
    },
    {
     "output_type": "execute_result",
     "data": {
      "text/plain": "{'We': 2,\n 'have': 5,\n 'an': 1,\n 'immediate': 1,\n 'opening': 1,\n 'for': 1,\n 'a': 9,\n 'Sharp': 1,\n 'Data': 3,\n 'Scientist': 1,\n 'with': 5,\n 'strong': 3,\n 'Mathematical/Statistical': 1,\n 'background': 1,\n 'to': 3,\n 'work': 2,\n 'on': 1,\n 'various': 3,\n 'initiatives': 1,\n 'in': 3,\n 'Huge': 1,\n 'data': 3,\n 'environment.': 1,\n 'Will': 2,\n 'be': 4,\n 'looking': 1,\n 'at': 1,\n 'formats': 2,\n 'of': 4,\n 'dealing': 1,\n 'Billing': 1,\n 'Fraud': 1,\n 'Patterns': 1,\n 'using': 2,\n 'software': 1,\n 'and': 5,\n 'modeling': 1,\n 'techniques.': 1,\n 'The': 1,\n 'candidate': 1,\n 'should': 2,\n 'minimum': 2,\n '3': 1,\n 'years': 1,\n 'solid': 1,\n 'experience': 4,\n 'professional': 2,\n 'organization/corporation': 1,\n 'Python,': 1,\n 'SQL,': 1,\n 'Python': 2,\n 'libraries,': 1,\n 'Machine': 1,\n 'Learning': 1,\n 'Algorithms': 1,\n '(': 1,\n 'i.e.': 1,\n 'Decision': 1,\n 'Tree,': 1,\n 'Random': 1,\n 'Forest,': 1,\n 'Logistic': 1,\n 'Regression,': 1,\n 'etc.)': 1,\n 'skills.': 1,\n 'Additional': 1,\n 'R': 1,\n 'Cloud': 1,\n 'would': 2,\n 'plus.': 2,\n 'working': 2,\n 'structured': 1,\n 'unstructured': 1,\n 'so': 1,\n 'any': 1,\n 'Hive,': 1,\n 'other': 1,\n 'Big': 1,\n 'technologies': 1,\n 'Should': 1,\n 'communication': 1,\n 'skills': 1,\n 'the': 1,\n 'ability': 1,\n 'explain': 1,\n 'findings': 1,\n 'both': 1,\n 'Technical': 2,\n 'Non-': 1,\n 'audiences.': 1,\n 'are': 1,\n 'NOT': 1,\n 'considering': 1,\n 'Recent': 1,\n 'College': 1,\n 'Grads-': 1,\n 'MUST': 1,\n '2-3': 1,\n 'post': 1,\n 'Graduate': 1,\n 'organization': 1,\n '.': 1}"
     },
     "metadata": {},
     "execution_count": 47
    }
   ],
   "source": [
    "test_str = kaggle_data_df['job_description'][1]\n",
    "print(test_str)\n",
    "\n",
    "skillz2 = skill_count(test_str)\n",
    "skillz2"
   ]
  },
  {
   "cell_type": "code",
   "execution_count": null,
   "metadata": {},
   "outputs": [],
   "source": []
  }
 ],
 "metadata": {
  "language_info": {
   "codemirror_mode": {
    "name": "ipython",
    "version": 3
   },
   "file_extension": ".py",
   "mimetype": "text/x-python",
   "name": "python",
   "nbconvert_exporter": "python",
   "pygments_lexer": "ipython3",
   "version": "3.6.10-final"
  },
  "orig_nbformat": 2,
  "kernelspec": {
   "name": "python361064bitpythondataconda2a9a3c884c40400db426ae2e3e580487",
   "display_name": "Python 3.6.10 64-bit ('PythonData': conda)"
  }
 },
 "nbformat": 4,
 "nbformat_minor": 2
}