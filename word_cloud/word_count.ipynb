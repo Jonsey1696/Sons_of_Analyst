{
 "cells": [
  {
   "cell_type": "code",
   "execution_count": 62,
   "metadata": {},
   "outputs": [],
   "source": [
    "import pandas as pd\n",
    "import matplotlib.pyplot as plt \n",
    "import numpy as np\n",
    "\n",
    "# load latest clean data file\n",
    "clean_data = pd.read_csv('clean_data_ver3.csv')\n",
    "\n",
    "# load list of skills and create working list\n",
    "skills_csv = pd.read_csv('skills.csv')\n",
    "skill_list = skills_csv['Job Skill'].tolist()"
   ]
  },
  {
   "cell_type": "code",
   "execution_count": 63,
   "metadata": {},
   "outputs": [],
   "source": [
    "# extract job skills as list of strings\n",
    "cloud_words = clean_data['job_skills'].astype(str).tolist()\n",
    "cloud_words_all = ' '.join(cloud_words)\n"
   ]
  },
  {
   "cell_type": "code",
   "execution_count": 64,
   "metadata": {
    "tags": []
   },
   "outputs": [],
   "source": [
    "# get counts of each term in job skills column\n",
    "wordfreq = []\n",
    "\n",
    "for w in skill_list:\n",
    "    wordfreq.append(cloud_words_all.count(w))\n"
   ]
  },
  {
   "cell_type": "code",
   "execution_count": 65,
   "metadata": {
    "tags": []
   },
   "outputs": [],
   "source": [
    "# convert the lists back to pd.Series\n",
    "skill_count = pd.Series(wordfreq, name='skill_count')\n",
    "skills = pd.Series(skill_list)\n",
    "\n",
    "# join both pd.Series into new pd.DataFrame\n",
    "skill_count_df = pd.DataFrame({'job_skill':skills, 'skill_count':skill_count})"
   ]
  },
  {
   "cell_type": "code",
   "execution_count": 67,
   "metadata": {},
   "outputs": [],
   "source": [
    "skill_count_df.to_excel('data-science-job-skills.xlsx')"
   ]
  },
  {
   "cell_type": "code",
   "execution_count": null,
   "metadata": {},
   "outputs": [],
   "source": []
  }
 ],
 "metadata": {
  "language_info": {
   "codemirror_mode": {
    "name": "ipython",
    "version": 3
   },
   "file_extension": ".py",
   "mimetype": "text/x-python",
   "name": "python",
   "nbconvert_exporter": "python",
   "pygments_lexer": "ipython3",
   "version": "3.6.10-final"
  },
  "orig_nbformat": 2,
  "kernelspec": {
   "name": "python361064bitpythondataconda2a9a3c884c40400db426ae2e3e580487",
   "display_name": "Python 3.6.10 64-bit ('PythonData': conda)"
  }
 },
 "nbformat": 4,
 "nbformat_minor": 2
}