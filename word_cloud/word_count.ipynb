{
 "cells": [
  {
   "cell_type": "code",
   "execution_count": 62,
   "metadata": {},
   "outputs": [],
   "source": [
    "import pandas as pd\n",
    "import matplotlib.pyplot as plt \n",
    "import numpy as np\n",
    "\n",
    "# load latest clean data file\n",
    "clean_data = pd.read_csv('clean_data_ver3.csv')\n",
    "\n",
    "# load list of skills and create working list\n",
    "skills_csv = pd.read_csv('skills.csv')\n",
    "skill_list = skills_csv['Job Skill'].tolist()"
   ]
  },
  {
   "cell_type": "code",
   "execution_count": 63,
   "metadata": {},
   "outputs": [],
   "source": [
    "# extract job skills as list of strings\n",
    "cloud_words = clean_data['job_skills'].astype(str).tolist()\n",
    "cloud_words_all = ' '.join(cloud_words)\n"
   ]
  },
  {
   "cell_type": "code",
   "execution_count": 64,
   "metadata": {
    "tags": []
   },
   "outputs": [],
   "source": [
    "# get counts of each term in job skills column\n",
    "wordfreq = []\n",
    "\n",
    "for w in skill_list:\n",
    "    wordfreq.append(cloud_words_all.count(w))\n"
   ]
  },
  {
   "cell_type": "code",
   "execution_count": 65,
   "metadata": {
    "tags": []
   },
   "outputs": [],
   "source": [
    "# convert the lists back to pd.Series\n",
    "skill_count = pd.Series(wordfreq, name='skill_count')\n",
    "skills = pd.Series(skill_list)\n",
    "\n",
    "# join both pd.Series into new pd.DataFrame\n",
    "skill_count_df = pd.DataFrame({'job_skill':skills, 'skill_count':skill_count})"
   ]
  },
  {
   "cell_type": "code",
   "execution_count": 66,
   "metadata": {},
   "outputs": [
    {
     "output_type": "execute_result",
     "data": {
      "text/plain": "          job_skill  skill_count\n0               SQL         8948\n1            Python        10300\n2   MachineLearning            1\n3       DataScience            9\n4       Mathematics         3056\n5        Statistics         4145\n6        Algorithms          234\n7            Models          470\n8        Regression           94\n9                 R        31673\n10            Cloud         1409\n11             HIVE          176\n12             Hive         1395\n13              Pig          496\n14         Big Data         2163\n15            NoSQL          851\n16           Hadoop         3523\n17       PostgreSQL          202\n18            Spark         3802\n19      Development         1117\n20     Quantitative          368\n21         Analysis         1280\n22               ML         3490\n23          Tableau         2350\n24          Insight          504\n25       Analytical          284\n26              API          603\n27              SAS         3065\n28            Scala         1641\n29               C#          262\n30             Perl          342\n31          PowerBI          214\n32         QlikView           93\n33   NeuralNetworks            0\n34       Predictive          616\n35     Prescriptive           45\n36      Performance          276\n37              NLP         1687\n38     DataModeling            0\n39            Azure         1518\n40              AWS         3159\n41   ComputerVision            0\n42            Agile          656\n43          Jupyter          298\n44       Matplotlib           96\n45           Pandas          433\n46            Numpy          149\n47            Query          301\n48     DeepLearning           10\n49       Clustering          153\n50              ETL          929\n51              ELT            9\n52           Matlab          528\n53     scikit-learn          412\n54       TensorFlow          754",
      "text/html": "<div>\n<style scoped>\n    .dataframe tbody tr th:only-of-type {\n        vertical-align: middle;\n    }\n\n    .dataframe tbody tr th {\n        vertical-align: top;\n    }\n\n    .dataframe thead th {\n        text-align: right;\n    }\n</style>\n<table border=\"1\" class=\"dataframe\">\n  <thead>\n    <tr style=\"text-align: right;\">\n      <th></th>\n      <th>job_skill</th>\n      <th>skill_count</th>\n    </tr>\n  </thead>\n  <tbody>\n    <tr>\n      <th>0</th>\n      <td>SQL</td>\n      <td>8948</td>\n    </tr>\n    <tr>\n      <th>1</th>\n      <td>Python</td>\n      <td>10300</td>\n    </tr>\n    <tr>\n      <th>2</th>\n      <td>MachineLearning</td>\n      <td>1</td>\n    </tr>\n    <tr>\n      <th>3</th>\n      <td>DataScience</td>\n      <td>9</td>\n    </tr>\n    <tr>\n      <th>4</th>\n      <td>Mathematics</td>\n      <td>3056</td>\n    </tr>\n    <tr>\n      <th>5</th>\n      <td>Statistics</td>\n      <td>4145</td>\n    </tr>\n    <tr>\n      <th>6</th>\n      <td>Algorithms</td>\n      <td>234</td>\n    </tr>\n    <tr>\n      <th>7</th>\n      <td>Models</td>\n      <td>470</td>\n    </tr>\n    <tr>\n      <th>8</th>\n      <td>Regression</td>\n      <td>94</td>\n    </tr>\n    <tr>\n      <th>9</th>\n      <td>R</td>\n      <td>31673</td>\n    </tr>\n    <tr>\n      <th>10</th>\n      <td>Cloud</td>\n      <td>1409</td>\n    </tr>\n    <tr>\n      <th>11</th>\n      <td>HIVE</td>\n      <td>176</td>\n    </tr>\n    <tr>\n      <th>12</th>\n      <td>Hive</td>\n      <td>1395</td>\n    </tr>\n    <tr>\n      <th>13</th>\n      <td>Pig</td>\n      <td>496</td>\n    </tr>\n    <tr>\n      <th>14</th>\n      <td>Big Data</td>\n      <td>2163</td>\n    </tr>\n    <tr>\n      <th>15</th>\n      <td>NoSQL</td>\n      <td>851</td>\n    </tr>\n    <tr>\n      <th>16</th>\n      <td>Hadoop</td>\n      <td>3523</td>\n    </tr>\n    <tr>\n      <th>17</th>\n      <td>PostgreSQL</td>\n      <td>202</td>\n    </tr>\n    <tr>\n      <th>18</th>\n      <td>Spark</td>\n      <td>3802</td>\n    </tr>\n    <tr>\n      <th>19</th>\n      <td>Development</td>\n      <td>1117</td>\n    </tr>\n    <tr>\n      <th>20</th>\n      <td>Quantitative</td>\n      <td>368</td>\n    </tr>\n    <tr>\n      <th>21</th>\n      <td>Analysis</td>\n      <td>1280</td>\n    </tr>\n    <tr>\n      <th>22</th>\n      <td>ML</td>\n      <td>3490</td>\n    </tr>\n    <tr>\n      <th>23</th>\n      <td>Tableau</td>\n      <td>2350</td>\n    </tr>\n    <tr>\n      <th>24</th>\n      <td>Insight</td>\n      <td>504</td>\n    </tr>\n    <tr>\n      <th>25</th>\n      <td>Analytical</td>\n      <td>284</td>\n    </tr>\n    <tr>\n      <th>26</th>\n      <td>API</td>\n      <td>603</td>\n    </tr>\n    <tr>\n      <th>27</th>\n      <td>SAS</td>\n      <td>3065</td>\n    </tr>\n    <tr>\n      <th>28</th>\n      <td>Scala</td>\n      <td>1641</td>\n    </tr>\n    <tr>\n      <th>29</th>\n      <td>C#</td>\n      <td>262</td>\n    </tr>\n    <tr>\n      <th>30</th>\n      <td>Perl</td>\n      <td>342</td>\n    </tr>\n    <tr>\n      <th>31</th>\n      <td>PowerBI</td>\n      <td>214</td>\n    </tr>\n    <tr>\n      <th>32</th>\n      <td>QlikView</td>\n      <td>93</td>\n    </tr>\n    <tr>\n      <th>33</th>\n      <td>NeuralNetworks</td>\n      <td>0</td>\n    </tr>\n    <tr>\n      <th>34</th>\n      <td>Predictive</td>\n      <td>616</td>\n    </tr>\n    <tr>\n      <th>35</th>\n      <td>Prescriptive</td>\n      <td>45</td>\n    </tr>\n    <tr>\n      <th>36</th>\n      <td>Performance</td>\n      <td>276</td>\n    </tr>\n    <tr>\n      <th>37</th>\n      <td>NLP</td>\n      <td>1687</td>\n    </tr>\n    <tr>\n      <th>38</th>\n      <td>DataModeling</td>\n      <td>0</td>\n    </tr>\n    <tr>\n      <th>39</th>\n      <td>Azure</td>\n      <td>1518</td>\n    </tr>\n    <tr>\n      <th>40</th>\n      <td>AWS</td>\n      <td>3159</td>\n    </tr>\n    <tr>\n      <th>41</th>\n      <td>ComputerVision</td>\n      <td>0</td>\n    </tr>\n    <tr>\n      <th>42</th>\n      <td>Agile</td>\n      <td>656</td>\n    </tr>\n    <tr>\n      <th>43</th>\n      <td>Jupyter</td>\n      <td>298</td>\n    </tr>\n    <tr>\n      <th>44</th>\n      <td>Matplotlib</td>\n      <td>96</td>\n    </tr>\n    <tr>\n      <th>45</th>\n      <td>Pandas</td>\n      <td>433</td>\n    </tr>\n    <tr>\n      <th>46</th>\n      <td>Numpy</td>\n      <td>149</td>\n    </tr>\n    <tr>\n      <th>47</th>\n      <td>Query</td>\n      <td>301</td>\n    </tr>\n    <tr>\n      <th>48</th>\n      <td>DeepLearning</td>\n      <td>10</td>\n    </tr>\n    <tr>\n      <th>49</th>\n      <td>Clustering</td>\n      <td>153</td>\n    </tr>\n    <tr>\n      <th>50</th>\n      <td>ETL</td>\n      <td>929</td>\n    </tr>\n    <tr>\n      <th>51</th>\n      <td>ELT</td>\n      <td>9</td>\n    </tr>\n    <tr>\n      <th>52</th>\n      <td>Matlab</td>\n      <td>528</td>\n    </tr>\n    <tr>\n      <th>53</th>\n      <td>scikit-learn</td>\n      <td>412</td>\n    </tr>\n    <tr>\n      <th>54</th>\n      <td>TensorFlow</td>\n      <td>754</td>\n    </tr>\n  </tbody>\n</table>\n</div>"
     },
     "metadata": {},
     "execution_count": 66
    }
   ],
   "source": [
    "skill_count_df"
   ]
  },
  {
   "cell_type": "code",
   "execution_count": null,
   "metadata": {},
   "outputs": [],
   "source": []
  }
 ],
 "metadata": {
  "language_info": {
   "codemirror_mode": {
    "name": "ipython",
    "version": 3
   },
   "file_extension": ".py",
   "mimetype": "text/x-python",
   "name": "python",
   "nbconvert_exporter": "python",
   "pygments_lexer": "ipython3",
   "version": "3.6.10-final"
  },
  "orig_nbformat": 2,
  "kernelspec": {
   "name": "python361064bitpythondataconda2a9a3c884c40400db426ae2e3e580487",
   "display_name": "Python 3.6.10 64-bit ('PythonData': conda)"
  }
 },
 "nbformat": 4,
 "nbformat_minor": 2
}