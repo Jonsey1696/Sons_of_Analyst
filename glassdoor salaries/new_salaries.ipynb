{
 "cells": [
  {
   "cell_type": "code",
   "execution_count": 1,
   "metadata": {},
   "outputs": [],
   "source": [
    "import pandas as pd"
   ]
  },
  {
   "cell_type": "code",
   "execution_count": 2,
   "metadata": {},
   "outputs": [],
   "source": [
    "csv_path=\"glassdoor_jobs.csv\""
   ]
  },
  {
   "cell_type": "code",
   "execution_count": 3,
   "metadata": {},
   "outputs": [
    {
     "data": {
      "text/plain": [
       "$105K-$138K (Glassdoor Est.)          130\n",
       "$73K-$128K (Glassdoor Est.)            30\n",
       "$48K-$91K (Glassdoor Est.)             30\n",
       "$41K-$73K (Glassdoor Est.)             30\n",
       "$88K-$133K (Glassdoor Est.)            30\n",
       "$92K-$146K (Glassdoor Est.)            30\n",
       "$139K-$229K (Glassdoor Est.)           30\n",
       "$86K-$108K (Glassdoor Est.)            30\n",
       "$81K-$137K (Glassdoor Est.)            30\n",
       "$68K-$119K (Glassdoor Est.)            30\n",
       "$ 17-$ 23 Per Hour(Glassdoor Est.)     30\n",
       "$95K-$165K (Glassdoor Est.)            30\n",
       "$70K-$119K (Glassdoor Est.)            30\n",
       "$106K-$143K (Glassdoor Est.)           30\n",
       "$112K-$149K (Glassdoor Est.)           30\n",
       "$125K-$156K (Glassdoor Est.)           30\n",
       "$49K-$88K (Glassdoor Est.)             30\n",
       "$105K-$117K (Glassdoor Est.)           30\n",
       "$77K-$92K (Glassdoor Est.)             30\n",
       "$50K-$63K (Glassdoor Est.)             30\n",
       "$108K-$140K (Glassdoor Est.)           30\n",
       "$71K-$108K (Glassdoor Est.)            30\n",
       "$83K-$99K (Glassdoor Est.)             30\n",
       "$57K-$94K (Glassdoor Est.)             30\n",
       "$60K-$124K (Glassdoor Est.)            30\n",
       "$90K-$109K (Glassdoor Est.)            30\n",
       "$59K-$101K (Glassdoor Est.)            30\n",
       "$110K-$145K (Glassdoor Est.)           30\n",
       "$81K-$102K (Glassdoor Est.)            30\n",
       "$72K-$121K (Glassdoor Est.)            30\n",
       "Name: Salary Estimate, dtype: int64"
      ]
     },
     "execution_count": 3,
     "metadata": {},
     "output_type": "execute_result"
    }
   ],
   "source": [
    "jobs_df=pd.read_csv(csv_path)\n",
    "jobs_df[\"Salary Estimate\"].value_counts()"
   ]
  },
  {
   "cell_type": "code",
   "execution_count": 4,
   "metadata": {},
   "outputs": [
    {
     "data": {
      "text/plain": [
       "array(['$77K-$92K (Glassdoor Est.)', '$108K-$140K (Glassdoor Est.)',\n",
       "       '$ 17-$ 23 Per Hour(Glassdoor Est.)',\n",
       "       '$90K-$109K (Glassdoor Est.)', '$106K-$143K (Glassdoor Est.)',\n",
       "       '$41K-$73K (Glassdoor Est.)', '$139K-$229K (Glassdoor Est.)',\n",
       "       '$105K-$117K (Glassdoor Est.)', '$57K-$94K (Glassdoor Est.)',\n",
       "       '$95K-$165K (Glassdoor Est.)', '$50K-$63K (Glassdoor Est.)',\n",
       "       '$48K-$91K (Glassdoor Est.)', '$110K-$145K (Glassdoor Est.)',\n",
       "       '$70K-$119K (Glassdoor Est.)', '$72K-$121K (Glassdoor Est.)',\n",
       "       '$49K-$88K (Glassdoor Est.)', '$125K-$156K (Glassdoor Est.)',\n",
       "       '$68K-$119K (Glassdoor Est.)', '$73K-$128K (Glassdoor Est.)',\n",
       "       '$86K-$108K (Glassdoor Est.)', '$92K-$146K (Glassdoor Est.)',\n",
       "       '$83K-$99K (Glassdoor Est.)', '$88K-$133K (Glassdoor Est.)',\n",
       "       '$112K-$149K (Glassdoor Est.)', '$71K-$108K (Glassdoor Est.)',\n",
       "       '$60K-$124K (Glassdoor Est.)', '$81K-$102K (Glassdoor Est.)',\n",
       "       '$81K-$137K (Glassdoor Est.)', '$59K-$101K (Glassdoor Est.)',\n",
       "       '$105K-$138K (Glassdoor Est.)'], dtype=object)"
      ]
     },
     "execution_count": 4,
     "metadata": {},
     "output_type": "execute_result"
    }
   ],
   "source": [
    "jobs_df[\"Salary Estimate\"].unique()"
   ]
  },
  {
   "cell_type": "code",
   "execution_count": 5,
   "metadata": {},
   "outputs": [],
   "source": [
    "average_salary=[]\n",
    "for salary in jobs_df[\"Salary Estimate\"]:\n",
    "    \n",
    "    if salary == (\"$105K-$138K (Glassdoor Est.)\"):\n",
    "        average_salary.append(121500)\n",
    "    elif average_salary == (\"$68K-$119K (Glassdoor Est.)\"):\n",
    "        salary.append(93500)\n",
    "    elif salary == (\"$ 17-$ 23 Per Hour(Glassdoor Est.)\"):\n",
    "        average_salary.append(41600)\n",
    "    elif salary == (\"$50K-$63K (Glassdoor Est.)\"):\n",
    "        average_salary.append(56500)\n",
    "    elif salary == (\"$70K-$119K (Glassdoor Est.)\"):\n",
    "        average_salary.append(94500)\n",
    "    elif salary == (\"$106K-$143K (Glassdoor Est.)\"):\n",
    "        average_salary.append(124500)\n",
    "    elif salary == (\"$92K-$146K (Glassdoor Est.)\"):\n",
    "        average_salary.append(119000)\n",
    "    elif salary == (\"$112K-$149K (Glassdoor Est.)\"):\n",
    "        average_salary.append(130500)\n",
    "    elif salary == (\"$81K-$137K (Glassdoor Est.)\"):\n",
    "        average_salary.append(109000)\n",
    "    elif salary == (\"$57K-$94K (Glassdoor Est.)\"):\n",
    "        average_salary.append(75500) \n",
    "    elif salary == (\"$86K-$108K (Glassdoor Est.)\"):\n",
    "        average_salary.append(97000)\n",
    "    elif salary == (\"$139K-$229K (Glassdoor Est.)\"):\n",
    "        average_salary.append(184000)\n",
    "    elif salary == (\"$60K-$124K (Glassdoor Est.)\"):\n",
    "        average_salary.append(92000)\n",
    "    elif salary == (\"$110K-$145K (Glassdoor Est.)\"):\n",
    "        average_salary.append(127500)\n",
    "    elif salary == (\"$90K-$109K (Glassdoor Est.)\"):\n",
    "        average_salary.append(99500)\n",
    "    elif salary == (\"$72K-$121K (Glassdoor Est.)\"):\n",
    "        average_salary.append(96500)\n",
    "    elif salary == (\"$88K-$133K (Glassdoor Est.)\"):\n",
    "        average_salary.append(110500)\n",
    "    elif salary == (\"$49K-$88K (Glassdoor Est.)\"):\n",
    "        average_salary.append(68500)\n",
    "    elif salary == (\"$59K-$101K (Glassdoor Est.)\"):\n",
    "        average_salary.append(80000)\n",
    "    elif salary == (\"$81K-$102K (Glassdoor Est.)\"):\n",
    "        average_salary.append(91500)\n",
    "    elif salary == (\"$77K-$92K (Glassdoor Est.)\"):\n",
    "        average_salary.append(84500)\n",
    "    elif salary == (\"$125K-$156K (Glassdoor Est.)\"):\n",
    "        average_salary.append(145500)\n",
    "    elif salary == (\"$105K-$117K (Glassdoor Est.)\"):\n",
    "        average_salary.append(111000)\n",
    "    elif salary == (\"$71K-$108K (Glassdoor Est.)\"):\n",
    "        average_salary.append(89500)\n",
    "    elif salary == (\"$41K-$73K (Glassdoor Est.)\"):\n",
    "        average_salary.append(57000)\n",
    "    elif salary == (\"$48K-$91K (Glassdoor Est.)\"):\n",
    "        average_salary.append(69500)\n",
    "    elif salary == (\"$108K-$140K (Glassdoor Est.)\"):\n",
    "        average_salary.append(126500)\n",
    "    elif salary == (\"$95K-$165K (Glassdoor Est.)\"):\n",
    "        average_salary.append(130000)\n",
    "    elif salary == (\"$73K-$128K (Glassdoor Est.)\"):\n",
    "        average_salary.append(100500)\n",
    "    elif salary == (\"$83K-$99K (Glassdoor Est.)\"):\n",
    "        average_salary.append(91000)\n",
    "    else:\n",
    "        average_salary.append(0)\n",
    "\n",
    "\n",
    "        \n",
    "        \n",
    "        \n",
    "        "
   ]
  },
  {
   "cell_type": "code",
   "execution_count": 6,
   "metadata": {},
   "outputs": [],
   "source": [
    "jobs_df[\"salary_average\"]=average_salary"
   ]
  },
  {
   "cell_type": "code",
   "execution_count": 7,
   "metadata": {},
   "outputs": [],
   "source": [
    "jobs_df[\"Job Title\"] = jobs_df[\"Job Title\"].str.lower()"
   ]
  },
  {
   "cell_type": "code",
   "execution_count": 8,
   "metadata": {},
   "outputs": [
    {
     "name": "stderr",
     "output_type": "stream",
     "text": [
      "/opt/anaconda3/envs/PythonData/lib/python3.6/site-packages/ipykernel_launcher.py:2: SettingWithCopyWarning: \n",
      "A value is trying to be set on a copy of a slice from a DataFrame.\n",
      "Try using .loc[row_indexer,col_indexer] = value instead\n",
      "\n",
      "See the caveats in the documentation: https://pandas.pydata.org/pandas-docs/stable/user_guide/indexing.html#returning-a-view-versus-a-copy\n",
      "  \n"
     ]
    }
   ],
   "source": [
    "jrs=jobs_df[jobs_df[\"Job Title\"].str.contains(\"jr|junior|entry|associate\")]\n",
    "jrs[\"Job Title\"]=\"junior data scientist\"\n"
   ]
  },
  {
   "cell_type": "code",
   "execution_count": 9,
   "metadata": {},
   "outputs": [
    {
     "name": "stderr",
     "output_type": "stream",
     "text": [
      "/opt/anaconda3/envs/PythonData/lib/python3.6/site-packages/ipykernel_launcher.py:2: SettingWithCopyWarning: \n",
      "A value is trying to be set on a copy of a slice from a DataFrame.\n",
      "Try using .loc[row_indexer,col_indexer] = value instead\n",
      "\n",
      "See the caveats in the documentation: https://pandas.pydata.org/pandas-docs/stable/user_guide/indexing.html#returning-a-view-versus-a-copy\n",
      "  \n"
     ]
    }
   ],
   "source": [
    "seniors=jobs_df[jobs_df[\"Job Title\"].str.contains(\"senior|lead|principal\")]\n",
    "seniors[\"Job Title\"]=\"senior data scientist\"\n"
   ]
  },
  {
   "cell_type": "code",
   "execution_count": 10,
   "metadata": {},
   "outputs": [],
   "source": [
    "frames=[jrs, seniors]\n",
    "jrs_seniors=pd.concat(frames)\n"
   ]
  },
  {
   "cell_type": "code",
   "execution_count": 11,
   "metadata": {},
   "outputs": [],
   "source": [
    "jrs_seniors.reset_index(inplace=True)\n"
   ]
  },
  {
   "cell_type": "code",
   "execution_count": 12,
   "metadata": {},
   "outputs": [],
   "source": [
    "drop_jrs_seniors=jrs_seniors[\"index\"].tolist()"
   ]
  },
  {
   "cell_type": "code",
   "execution_count": 13,
   "metadata": {},
   "outputs": [],
   "source": [
    "mid_level=jobs_df.drop(drop_jrs_seniors)"
   ]
  },
  {
   "cell_type": "code",
   "execution_count": 14,
   "metadata": {},
   "outputs": [
    {
     "data": {
      "text/plain": [
       "data scientist           873\n",
       "senior data scientist    110\n",
       "junior data scientist     20\n",
       "Name: Job Title, dtype: int64"
      ]
     },
     "execution_count": 14,
     "metadata": {},
     "output_type": "execute_result"
    }
   ],
   "source": [
    "mid_level[\"Job Title\"]=\"data scientist\"\n",
    "frames=[mid_level, jrs_seniors]\n",
    "clean_roles=pd.concat(frames)\n",
    "clean_roles[\"Job Title\"].value_counts()"
   ]
  },
  {
   "cell_type": "code",
   "execution_count": 15,
   "metadata": {},
   "outputs": [],
   "source": [
    "clean_roles2=clean_roles.drop_duplicates(subset=[\"Job Description\"])\n"
   ]
  },
  {
   "cell_type": "code",
   "execution_count": 16,
   "metadata": {},
   "outputs": [
    {
     "data": {
      "text/plain": [
       "data scientist           761\n",
       "senior data scientist    106\n",
       "junior data scientist     20\n",
       "Name: Job Title, dtype: int64"
      ]
     },
     "execution_count": 16,
     "metadata": {},
     "output_type": "execute_result"
    }
   ],
   "source": [
    "clean_roles2[\"Job Title\"].value_counts()"
   ]
  },
  {
   "cell_type": "code",
   "execution_count": 17,
   "metadata": {},
   "outputs": [],
   "source": [
    "clean_roles2.to_csv(\"glassdoor_salaries.csv\", index=False)\n",
    "clean_roles2=clean_roles2[[\"Job Title\", \"Location\", \"Industry\", \"Sector\", \"salary_average\"]]\n"
   ]
  },
  {
   "cell_type": "code",
   "execution_count": 18,
   "metadata": {},
   "outputs": [],
   "source": [
    "clean_roles2.to_csv(\"glassdoor_average_salaries.csv\", index=False)"
   ]
  },
  {
   "cell_type": "code",
   "execution_count": null,
   "metadata": {},
   "outputs": [],
   "source": []
  }
 ],
 "metadata": {
  "kernelspec": {
   "display_name": "Python [conda env:PythonData] *",
   "language": "python",
   "name": "conda-env-PythonData-py"
  },
  "language_info": {
   "codemirror_mode": {
    "name": "ipython",
    "version": 3
   },
   "file_extension": ".py",
   "mimetype": "text/x-python",
   "name": "python",
   "nbconvert_exporter": "python",
   "pygments_lexer": "ipython3",
   "version": "3.6.10"
  }
 },
 "nbformat": 4,
 "nbformat_minor": 4
}
